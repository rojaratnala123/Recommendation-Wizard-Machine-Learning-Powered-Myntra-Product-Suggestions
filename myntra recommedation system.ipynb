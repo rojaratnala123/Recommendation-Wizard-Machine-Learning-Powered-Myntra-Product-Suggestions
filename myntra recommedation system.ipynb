{
  "nbformat": 4,
  "nbformat_minor": 0,
  "metadata": {
    "colab": {
      "provenance": []
    },
    "kernelspec": {
      "name": "python3",
      "display_name": "Python 3"
    },
    "language_info": {
      "name": "python"
    }
  },
  "cells": [
    {
      "cell_type": "code",
      "execution_count": null,
      "metadata": {
        "id": "vrCzAjE8vBsY"
      },
      "outputs": [],
      "source": [
        "import pandas as pd\n",
        "import numpy as np\n",
        "import  sklearn"
      ]
    },
    {
      "cell_type": "code",
      "source": [
        "data=pd.read_csv(r'/content/drive/MyDrive/myntra_products_catalog.csv')"
      ],
      "metadata": {
        "id": "gaGriD8_2LtI"
      },
      "execution_count": null,
      "outputs": []
    },
    {
      "cell_type": "code",
      "source": [
        "data.head(5)"
      ],
      "metadata": {
        "colab": {
          "base_uri": "https://localhost:8080/",
          "height": 362
        },
        "id": "rtcBqhuv2Lwe",
        "outputId": "a913ecea-d28e-4f50-d8cf-e8109238db88"
      },
      "execution_count": null,
      "outputs": [
        {
          "output_type": "execute_result",
          "data": {
            "text/plain": [
              "   ProductID                                        ProductName ProductBrand  \\\n",
              "0   10017413  DKNY Unisex Black & Grey Printed Medium Trolle...         DKNY   \n",
              "1   10016283  EthnoVogue Women Beige & Grey Made to Measure ...   EthnoVogue   \n",
              "2   10009781  SPYKAR Women Pink Alexa Super Skinny Fit High-...       SPYKAR   \n",
              "3   10015921  Raymond Men Blue Self-Design Single-Breasted B...      Raymond   \n",
              "4   10017833  Parx Men Brown & Off-White Slim Fit Printed Ca...         Parx   \n",
              "\n",
              "   Gender  Price (INR)  NumImages  \\\n",
              "0  Unisex        11745          7   \n",
              "1   Women         5810          7   \n",
              "2   Women          899          7   \n",
              "3     Men         5599          5   \n",
              "4     Men          759          5   \n",
              "\n",
              "                                         Description PrimaryColor  \n",
              "0  Black and grey printed medium trolley bag, sec...        Black  \n",
              "1  Beige & Grey made to measure kurta with churid...        Beige  \n",
              "2  Pink coloured wash 5-pocket high-rise cropped ...         Pink  \n",
              "3  Blue self-design bandhgala suitBlue self-desig...         Blue  \n",
              "4  Brown and off-white printed casual shirt, has ...        White  "
            ],
            "text/html": [
              "\n",
              "  <div id=\"df-e74df58a-0bcd-4e04-87bb-f00e75245a6c\" class=\"colab-df-container\">\n",
              "    <div>\n",
              "<style scoped>\n",
              "    .dataframe tbody tr th:only-of-type {\n",
              "        vertical-align: middle;\n",
              "    }\n",
              "\n",
              "    .dataframe tbody tr th {\n",
              "        vertical-align: top;\n",
              "    }\n",
              "\n",
              "    .dataframe thead th {\n",
              "        text-align: right;\n",
              "    }\n",
              "</style>\n",
              "<table border=\"1\" class=\"dataframe\">\n",
              "  <thead>\n",
              "    <tr style=\"text-align: right;\">\n",
              "      <th></th>\n",
              "      <th>ProductID</th>\n",
              "      <th>ProductName</th>\n",
              "      <th>ProductBrand</th>\n",
              "      <th>Gender</th>\n",
              "      <th>Price (INR)</th>\n",
              "      <th>NumImages</th>\n",
              "      <th>Description</th>\n",
              "      <th>PrimaryColor</th>\n",
              "    </tr>\n",
              "  </thead>\n",
              "  <tbody>\n",
              "    <tr>\n",
              "      <th>0</th>\n",
              "      <td>10017413</td>\n",
              "      <td>DKNY Unisex Black &amp; Grey Printed Medium Trolle...</td>\n",
              "      <td>DKNY</td>\n",
              "      <td>Unisex</td>\n",
              "      <td>11745</td>\n",
              "      <td>7</td>\n",
              "      <td>Black and grey printed medium trolley bag, sec...</td>\n",
              "      <td>Black</td>\n",
              "    </tr>\n",
              "    <tr>\n",
              "      <th>1</th>\n",
              "      <td>10016283</td>\n",
              "      <td>EthnoVogue Women Beige &amp; Grey Made to Measure ...</td>\n",
              "      <td>EthnoVogue</td>\n",
              "      <td>Women</td>\n",
              "      <td>5810</td>\n",
              "      <td>7</td>\n",
              "      <td>Beige &amp; Grey made to measure kurta with churid...</td>\n",
              "      <td>Beige</td>\n",
              "    </tr>\n",
              "    <tr>\n",
              "      <th>2</th>\n",
              "      <td>10009781</td>\n",
              "      <td>SPYKAR Women Pink Alexa Super Skinny Fit High-...</td>\n",
              "      <td>SPYKAR</td>\n",
              "      <td>Women</td>\n",
              "      <td>899</td>\n",
              "      <td>7</td>\n",
              "      <td>Pink coloured wash 5-pocket high-rise cropped ...</td>\n",
              "      <td>Pink</td>\n",
              "    </tr>\n",
              "    <tr>\n",
              "      <th>3</th>\n",
              "      <td>10015921</td>\n",
              "      <td>Raymond Men Blue Self-Design Single-Breasted B...</td>\n",
              "      <td>Raymond</td>\n",
              "      <td>Men</td>\n",
              "      <td>5599</td>\n",
              "      <td>5</td>\n",
              "      <td>Blue self-design bandhgala suitBlue self-desig...</td>\n",
              "      <td>Blue</td>\n",
              "    </tr>\n",
              "    <tr>\n",
              "      <th>4</th>\n",
              "      <td>10017833</td>\n",
              "      <td>Parx Men Brown &amp; Off-White Slim Fit Printed Ca...</td>\n",
              "      <td>Parx</td>\n",
              "      <td>Men</td>\n",
              "      <td>759</td>\n",
              "      <td>5</td>\n",
              "      <td>Brown and off-white printed casual shirt, has ...</td>\n",
              "      <td>White</td>\n",
              "    </tr>\n",
              "  </tbody>\n",
              "</table>\n",
              "</div>\n",
              "    <div class=\"colab-df-buttons\">\n",
              "\n",
              "  <div class=\"colab-df-container\">\n",
              "    <button class=\"colab-df-convert\" onclick=\"convertToInteractive('df-e74df58a-0bcd-4e04-87bb-f00e75245a6c')\"\n",
              "            title=\"Convert this dataframe to an interactive table.\"\n",
              "            style=\"display:none;\">\n",
              "\n",
              "  <svg xmlns=\"http://www.w3.org/2000/svg\" height=\"24px\" viewBox=\"0 -960 960 960\">\n",
              "    <path d=\"M120-120v-720h720v720H120Zm60-500h600v-160H180v160Zm220 220h160v-160H400v160Zm0 220h160v-160H400v160ZM180-400h160v-160H180v160Zm440 0h160v-160H620v160ZM180-180h160v-160H180v160Zm440 0h160v-160H620v160Z\"/>\n",
              "  </svg>\n",
              "    </button>\n",
              "\n",
              "  <style>\n",
              "    .colab-df-container {\n",
              "      display:flex;\n",
              "      gap: 12px;\n",
              "    }\n",
              "\n",
              "    .colab-df-convert {\n",
              "      background-color: #E8F0FE;\n",
              "      border: none;\n",
              "      border-radius: 50%;\n",
              "      cursor: pointer;\n",
              "      display: none;\n",
              "      fill: #1967D2;\n",
              "      height: 32px;\n",
              "      padding: 0 0 0 0;\n",
              "      width: 32px;\n",
              "    }\n",
              "\n",
              "    .colab-df-convert:hover {\n",
              "      background-color: #E2EBFA;\n",
              "      box-shadow: 0px 1px 2px rgba(60, 64, 67, 0.3), 0px 1px 3px 1px rgba(60, 64, 67, 0.15);\n",
              "      fill: #174EA6;\n",
              "    }\n",
              "\n",
              "    .colab-df-buttons div {\n",
              "      margin-bottom: 4px;\n",
              "    }\n",
              "\n",
              "    [theme=dark] .colab-df-convert {\n",
              "      background-color: #3B4455;\n",
              "      fill: #D2E3FC;\n",
              "    }\n",
              "\n",
              "    [theme=dark] .colab-df-convert:hover {\n",
              "      background-color: #434B5C;\n",
              "      box-shadow: 0px 1px 3px 1px rgba(0, 0, 0, 0.15);\n",
              "      filter: drop-shadow(0px 1px 2px rgba(0, 0, 0, 0.3));\n",
              "      fill: #FFFFFF;\n",
              "    }\n",
              "  </style>\n",
              "\n",
              "    <script>\n",
              "      const buttonEl =\n",
              "        document.querySelector('#df-e74df58a-0bcd-4e04-87bb-f00e75245a6c button.colab-df-convert');\n",
              "      buttonEl.style.display =\n",
              "        google.colab.kernel.accessAllowed ? 'block' : 'none';\n",
              "\n",
              "      async function convertToInteractive(key) {\n",
              "        const element = document.querySelector('#df-e74df58a-0bcd-4e04-87bb-f00e75245a6c');\n",
              "        const dataTable =\n",
              "          await google.colab.kernel.invokeFunction('convertToInteractive',\n",
              "                                                    [key], {});\n",
              "        if (!dataTable) return;\n",
              "\n",
              "        const docLinkHtml = 'Like what you see? Visit the ' +\n",
              "          '<a target=\"_blank\" href=https://colab.research.google.com/notebooks/data_table.ipynb>data table notebook</a>'\n",
              "          + ' to learn more about interactive tables.';\n",
              "        element.innerHTML = '';\n",
              "        dataTable['output_type'] = 'display_data';\n",
              "        await google.colab.output.renderOutput(dataTable, element);\n",
              "        const docLink = document.createElement('div');\n",
              "        docLink.innerHTML = docLinkHtml;\n",
              "        element.appendChild(docLink);\n",
              "      }\n",
              "    </script>\n",
              "  </div>\n",
              "\n",
              "\n",
              "<div id=\"df-c2729ef8-ab0c-4137-b2a5-7c21d7f3037f\">\n",
              "  <button class=\"colab-df-quickchart\" onclick=\"quickchart('df-c2729ef8-ab0c-4137-b2a5-7c21d7f3037f')\"\n",
              "            title=\"Suggest charts\"\n",
              "            style=\"display:none;\">\n",
              "\n",
              "<svg xmlns=\"http://www.w3.org/2000/svg\" height=\"24px\"viewBox=\"0 0 24 24\"\n",
              "     width=\"24px\">\n",
              "    <g>\n",
              "        <path d=\"M19 3H5c-1.1 0-2 .9-2 2v14c0 1.1.9 2 2 2h14c1.1 0 2-.9 2-2V5c0-1.1-.9-2-2-2zM9 17H7v-7h2v7zm4 0h-2V7h2v10zm4 0h-2v-4h2v4z\"/>\n",
              "    </g>\n",
              "</svg>\n",
              "  </button>\n",
              "\n",
              "<style>\n",
              "  .colab-df-quickchart {\n",
              "      --bg-color: #E8F0FE;\n",
              "      --fill-color: #1967D2;\n",
              "      --hover-bg-color: #E2EBFA;\n",
              "      --hover-fill-color: #174EA6;\n",
              "      --disabled-fill-color: #AAA;\n",
              "      --disabled-bg-color: #DDD;\n",
              "  }\n",
              "\n",
              "  [theme=dark] .colab-df-quickchart {\n",
              "      --bg-color: #3B4455;\n",
              "      --fill-color: #D2E3FC;\n",
              "      --hover-bg-color: #434B5C;\n",
              "      --hover-fill-color: #FFFFFF;\n",
              "      --disabled-bg-color: #3B4455;\n",
              "      --disabled-fill-color: #666;\n",
              "  }\n",
              "\n",
              "  .colab-df-quickchart {\n",
              "    background-color: var(--bg-color);\n",
              "    border: none;\n",
              "    border-radius: 50%;\n",
              "    cursor: pointer;\n",
              "    display: none;\n",
              "    fill: var(--fill-color);\n",
              "    height: 32px;\n",
              "    padding: 0;\n",
              "    width: 32px;\n",
              "  }\n",
              "\n",
              "  .colab-df-quickchart:hover {\n",
              "    background-color: var(--hover-bg-color);\n",
              "    box-shadow: 0 1px 2px rgba(60, 64, 67, 0.3), 0 1px 3px 1px rgba(60, 64, 67, 0.15);\n",
              "    fill: var(--button-hover-fill-color);\n",
              "  }\n",
              "\n",
              "  .colab-df-quickchart-complete:disabled,\n",
              "  .colab-df-quickchart-complete:disabled:hover {\n",
              "    background-color: var(--disabled-bg-color);\n",
              "    fill: var(--disabled-fill-color);\n",
              "    box-shadow: none;\n",
              "  }\n",
              "\n",
              "  .colab-df-spinner {\n",
              "    border: 2px solid var(--fill-color);\n",
              "    border-color: transparent;\n",
              "    border-bottom-color: var(--fill-color);\n",
              "    animation:\n",
              "      spin 1s steps(1) infinite;\n",
              "  }\n",
              "\n",
              "  @keyframes spin {\n",
              "    0% {\n",
              "      border-color: transparent;\n",
              "      border-bottom-color: var(--fill-color);\n",
              "      border-left-color: var(--fill-color);\n",
              "    }\n",
              "    20% {\n",
              "      border-color: transparent;\n",
              "      border-left-color: var(--fill-color);\n",
              "      border-top-color: var(--fill-color);\n",
              "    }\n",
              "    30% {\n",
              "      border-color: transparent;\n",
              "      border-left-color: var(--fill-color);\n",
              "      border-top-color: var(--fill-color);\n",
              "      border-right-color: var(--fill-color);\n",
              "    }\n",
              "    40% {\n",
              "      border-color: transparent;\n",
              "      border-right-color: var(--fill-color);\n",
              "      border-top-color: var(--fill-color);\n",
              "    }\n",
              "    60% {\n",
              "      border-color: transparent;\n",
              "      border-right-color: var(--fill-color);\n",
              "    }\n",
              "    80% {\n",
              "      border-color: transparent;\n",
              "      border-right-color: var(--fill-color);\n",
              "      border-bottom-color: var(--fill-color);\n",
              "    }\n",
              "    90% {\n",
              "      border-color: transparent;\n",
              "      border-bottom-color: var(--fill-color);\n",
              "    }\n",
              "  }\n",
              "</style>\n",
              "\n",
              "  <script>\n",
              "    async function quickchart(key) {\n",
              "      const quickchartButtonEl =\n",
              "        document.querySelector('#' + key + ' button');\n",
              "      quickchartButtonEl.disabled = true;  // To prevent multiple clicks.\n",
              "      quickchartButtonEl.classList.add('colab-df-spinner');\n",
              "      try {\n",
              "        const charts = await google.colab.kernel.invokeFunction(\n",
              "            'suggestCharts', [key], {});\n",
              "      } catch (error) {\n",
              "        console.error('Error during call to suggestCharts:', error);\n",
              "      }\n",
              "      quickchartButtonEl.classList.remove('colab-df-spinner');\n",
              "      quickchartButtonEl.classList.add('colab-df-quickchart-complete');\n",
              "    }\n",
              "    (() => {\n",
              "      let quickchartButtonEl =\n",
              "        document.querySelector('#df-c2729ef8-ab0c-4137-b2a5-7c21d7f3037f button');\n",
              "      quickchartButtonEl.style.display =\n",
              "        google.colab.kernel.accessAllowed ? 'block' : 'none';\n",
              "    })();\n",
              "  </script>\n",
              "</div>\n",
              "\n",
              "    </div>\n",
              "  </div>\n"
            ],
            "application/vnd.google.colaboratory.intrinsic+json": {
              "type": "dataframe",
              "variable_name": "data",
              "summary": "{\n  \"name\": \"data\",\n  \"rows\": 12491,\n  \"fields\": [\n    {\n      \"column\": \"ProductID\",\n      \"properties\": {\n        \"dtype\": \"number\",\n        \"std\": 1438005,\n        \"min\": 101206,\n        \"max\": 10275139,\n        \"num_unique_values\": 12491,\n        \"samples\": [\n          10247147,\n          10134531,\n          10186043\n        ],\n        \"semantic_type\": \"\",\n        \"description\": \"\"\n      }\n    },\n    {\n      \"column\": \"ProductName\",\n      \"properties\": {\n        \"dtype\": \"string\",\n        \"num_unique_values\": 10761,\n        \"samples\": [\n          \"Mufti Men Off-White & Brown Regular Fit Checked Casual Shirt\",\n          \"Superman featured Blue Tshirt for Men\",\n          \"AND Women Green Striped A-Line Dress\"\n        ],\n        \"semantic_type\": \"\",\n        \"description\": \"\"\n      }\n    },\n    {\n      \"column\": \"ProductBrand\",\n      \"properties\": {\n        \"dtype\": \"category\",\n        \"num_unique_values\": 677,\n        \"samples\": [\n          \"QUIERO\",\n          \"Deco Window\",\n          \"Ishin\"\n        ],\n        \"semantic_type\": \"\",\n        \"description\": \"\"\n      }\n    },\n    {\n      \"column\": \"Gender\",\n      \"properties\": {\n        \"dtype\": \"category\",\n        \"num_unique_values\": 6,\n        \"samples\": [\n          \"Unisex\",\n          \"Women\",\n          \"Unisex Kids\"\n        ],\n        \"semantic_type\": \"\",\n        \"description\": \"\"\n      }\n    },\n    {\n      \"column\": \"Price (INR)\",\n      \"properties\": {\n        \"dtype\": \"number\",\n        \"std\": 2118,\n        \"min\": 90,\n        \"max\": 63090,\n        \"num_unique_values\": 1543,\n        \"samples\": [\n          708,\n          3699,\n          1371\n        ],\n        \"semantic_type\": \"\",\n        \"description\": \"\"\n      }\n    },\n    {\n      \"column\": \"NumImages\",\n      \"properties\": {\n        \"dtype\": \"number\",\n        \"std\": 1,\n        \"min\": 1,\n        \"max\": 10,\n        \"num_unique_values\": 10,\n        \"samples\": [\n          9,\n          5,\n          2\n        ],\n        \"semantic_type\": \"\",\n        \"description\": \"\"\n      }\n    },\n    {\n      \"column\": \"Description\",\n      \"properties\": {\n        \"dtype\": \"string\",\n        \"num_unique_values\": 10435,\n        \"samples\": [\n          \"A pair of gold-toned open toe sandals, has high-top styling, ankle loop detailSynthetic upperCushioned footbedTextured and patterned outsole, has a stiletto heelWarranty: 1 monthWarranty provided by brand/manufacturer\",\n          \"Blue and white printed kurta with pyjamas Blue and white straight knee length kurta, has a mandarin collar, long sleeves, straight hem, side slitsBlue and white  Solid pyjamas, has elasticated waistband, slip-on closure\",\n          \"Red printed lounge t-shirts, has a round neck, short sleeves.\"\n        ],\n        \"semantic_type\": \"\",\n        \"description\": \"\"\n      }\n    },\n    {\n      \"column\": \"PrimaryColor\",\n      \"properties\": {\n        \"dtype\": \"category\",\n        \"num_unique_values\": 27,\n        \"samples\": [\n          \" Green\",\n          \" Grey\",\n          \" Maroon\"\n        ],\n        \"semantic_type\": \"\",\n        \"description\": \"\"\n      }\n    }\n  ]\n}"
            }
          },
          "metadata": {},
          "execution_count": 6
        }
      ]
    },
    {
      "cell_type": "code",
      "source": [
        "unique_counts = data.nunique()\n",
        "\n",
        "print(unique_counts)"
      ],
      "metadata": {
        "colab": {
          "base_uri": "https://localhost:8080/"
        },
        "id": "_dq8PXz0E9En",
        "outputId": "f46b1f39-e5d8-4853-d523-eb03555056e7"
      },
      "execution_count": null,
      "outputs": [
        {
          "output_type": "stream",
          "name": "stdout",
          "text": [
            "ProductID       12491\n",
            "ProductName     10761\n",
            "ProductBrand      677\n",
            "Gender              6\n",
            "Price (INR)      1543\n",
            "NumImages          10\n",
            "Description     10435\n",
            "PrimaryColor       27\n",
            "dtype: int64\n"
          ]
        }
      ]
    },
    {
      "cell_type": "code",
      "source": [
        "data['Price (INR)'].value_counts()"
      ],
      "metadata": {
        "colab": {
          "base_uri": "https://localhost:8080/"
        },
        "id": "4eAc2ou_I3AT",
        "outputId": "558ef7d6-ebcc-4e31-9d80-9a19444244b6"
      },
      "execution_count": null,
      "outputs": [
        {
          "output_type": "execute_result",
          "data": {
            "text/plain": [
              "Price (INR)\n",
              "699      510\n",
              "1299     464\n",
              "1999     312\n",
              "599      295\n",
              "899      254\n",
              "        ... \n",
              "2514       1\n",
              "1918       1\n",
              "10450      1\n",
              "2245       1\n",
              "8950       1\n",
              "Name: count, Length: 1543, dtype: int64"
            ]
          },
          "metadata": {},
          "execution_count": 32
        }
      ]
    },
    {
      "cell_type": "code",
      "source": [
        "data['Gender'].value_counts()"
      ],
      "metadata": {
        "colab": {
          "base_uri": "https://localhost:8080/"
        },
        "id": "QmZmOWRL47W3",
        "outputId": "967a5764-6773-4646-bc43-5ac48940f68a"
      },
      "execution_count": null,
      "outputs": [
        {
          "output_type": "execute_result",
          "data": {
            "text/plain": [
              "Gender\n",
              "Women          5126\n",
              "Men            4591\n",
              "Unisex         1188\n",
              "Boys           1100\n",
              "Girls           440\n",
              "Unisex Kids      46\n",
              "Name: count, dtype: int64"
            ]
          },
          "metadata": {},
          "execution_count": 11
        }
      ]
    },
    {
      "cell_type": "code",
      "source": [
        "data['PrimaryColor'].value_counts()"
      ],
      "metadata": {
        "colab": {
          "base_uri": "https://localhost:8080/"
        },
        "id": "i5R1JQnz4ztv",
        "outputId": "581ece84-d07c-4cfe-a6f0-97341a6fbfcf"
      },
      "execution_count": null,
      "outputs": [
        {
          "output_type": "execute_result",
          "data": {
            "text/plain": [
              "PrimaryColor\n",
              "Blue         3443\n",
              " Black       1640\n",
              " Red         1543\n",
              " Green        908\n",
              " White        880\n",
              " Grey         684\n",
              " Brown        473\n",
              " Yellow       406\n",
              " Pink         391\n",
              " Gold         236\n",
              " Beige        236\n",
              " Maroon       187\n",
              " Orange       130\n",
              " Silver       111\n",
              " Purple        65\n",
              " Burgundy      64\n",
              " Khaki         56\n",
              " Navy          54\n",
              " Lavender      19\n",
              " Matte         17\n",
              " Mustard       15\n",
              " Magenta       13\n",
              " Charcoal      10\n",
              " Rose           8\n",
              " Platinum       3\n",
              " Bronze         3\n",
              " Peach          2\n",
              "Name: count, dtype: int64"
            ]
          },
          "metadata": {},
          "execution_count": 10
        }
      ]
    },
    {
      "cell_type": "code",
      "source": [
        "data['ProductBrand'].value_counts()"
      ],
      "metadata": {
        "colab": {
          "base_uri": "https://localhost:8080/"
        },
        "id": "ujClQ0sa4gTl",
        "outputId": "c63f135f-5421-4a7b-d860-a38aead116c0"
      },
      "execution_count": null,
      "outputs": [
        {
          "output_type": "execute_result",
          "data": {
            "text/plain": [
              "ProductBrand\n",
              "Indian Terrain                  971\n",
              "Puma                            345\n",
              "Pepe Jeans                      340\n",
              "AURELIA                         307\n",
              "Flying Machine                  301\n",
              "                               ... \n",
              "Johnny Bravo by Kook N Keech      1\n",
              "Allen Solly Sport                 1\n",
              "HAMMER                            1\n",
              "CUTECUMBER                        1\n",
              "Stupid Cupid                      1\n",
              "Name: count, Length: 677, dtype: int64"
            ]
          },
          "metadata": {},
          "execution_count": 9
        }
      ]
    },
    {
      "cell_type": "code",
      "source": [
        "data.shape"
      ],
      "metadata": {
        "colab": {
          "base_uri": "https://localhost:8080/"
        },
        "id": "0omUpxke2Lz1",
        "outputId": "759e439c-7980-4d33-f80d-3e20f561002b"
      },
      "execution_count": null,
      "outputs": [
        {
          "output_type": "execute_result",
          "data": {
            "text/plain": [
              "(12491, 8)"
            ]
          },
          "metadata": {},
          "execution_count": 5
        }
      ]
    },
    {
      "cell_type": "code",
      "source": [
        "data.describe()"
      ],
      "metadata": {
        "colab": {
          "base_uri": "https://localhost:8080/",
          "height": 300
        },
        "id": "k4OoHrxM2L-p",
        "outputId": "cda4e1bf-4962-4f42-a8ac-b9c39b4c889c"
      },
      "execution_count": null,
      "outputs": [
        {
          "output_type": "execute_result",
          "data": {
            "text/plain": [
              "          ProductID   Price (INR)     NumImages\n",
              "count  1.249100e+04  12491.000000  12491.000000\n",
              "mean   9.917160e+06   1452.660956      4.913698\n",
              "std    1.438006e+06   2118.503976      1.092333\n",
              "min    1.012060e+05     90.000000      1.000000\n",
              "25%    1.006215e+07    649.000000      5.000000\n",
              "50%    1.015463e+07    920.000000      5.000000\n",
              "75%    1.021565e+07   1499.000000      5.000000\n",
              "max    1.027514e+07  63090.000000     10.000000"
            ],
            "text/html": [
              "\n",
              "  <div id=\"df-51c3b878-d494-4ead-bf65-64e27bf38aaf\" class=\"colab-df-container\">\n",
              "    <div>\n",
              "<style scoped>\n",
              "    .dataframe tbody tr th:only-of-type {\n",
              "        vertical-align: middle;\n",
              "    }\n",
              "\n",
              "    .dataframe tbody tr th {\n",
              "        vertical-align: top;\n",
              "    }\n",
              "\n",
              "    .dataframe thead th {\n",
              "        text-align: right;\n",
              "    }\n",
              "</style>\n",
              "<table border=\"1\" class=\"dataframe\">\n",
              "  <thead>\n",
              "    <tr style=\"text-align: right;\">\n",
              "      <th></th>\n",
              "      <th>ProductID</th>\n",
              "      <th>Price (INR)</th>\n",
              "      <th>NumImages</th>\n",
              "    </tr>\n",
              "  </thead>\n",
              "  <tbody>\n",
              "    <tr>\n",
              "      <th>count</th>\n",
              "      <td>1.249100e+04</td>\n",
              "      <td>12491.000000</td>\n",
              "      <td>12491.000000</td>\n",
              "    </tr>\n",
              "    <tr>\n",
              "      <th>mean</th>\n",
              "      <td>9.917160e+06</td>\n",
              "      <td>1452.660956</td>\n",
              "      <td>4.913698</td>\n",
              "    </tr>\n",
              "    <tr>\n",
              "      <th>std</th>\n",
              "      <td>1.438006e+06</td>\n",
              "      <td>2118.503976</td>\n",
              "      <td>1.092333</td>\n",
              "    </tr>\n",
              "    <tr>\n",
              "      <th>min</th>\n",
              "      <td>1.012060e+05</td>\n",
              "      <td>90.000000</td>\n",
              "      <td>1.000000</td>\n",
              "    </tr>\n",
              "    <tr>\n",
              "      <th>25%</th>\n",
              "      <td>1.006215e+07</td>\n",
              "      <td>649.000000</td>\n",
              "      <td>5.000000</td>\n",
              "    </tr>\n",
              "    <tr>\n",
              "      <th>50%</th>\n",
              "      <td>1.015463e+07</td>\n",
              "      <td>920.000000</td>\n",
              "      <td>5.000000</td>\n",
              "    </tr>\n",
              "    <tr>\n",
              "      <th>75%</th>\n",
              "      <td>1.021565e+07</td>\n",
              "      <td>1499.000000</td>\n",
              "      <td>5.000000</td>\n",
              "    </tr>\n",
              "    <tr>\n",
              "      <th>max</th>\n",
              "      <td>1.027514e+07</td>\n",
              "      <td>63090.000000</td>\n",
              "      <td>10.000000</td>\n",
              "    </tr>\n",
              "  </tbody>\n",
              "</table>\n",
              "</div>\n",
              "    <div class=\"colab-df-buttons\">\n",
              "\n",
              "  <div class=\"colab-df-container\">\n",
              "    <button class=\"colab-df-convert\" onclick=\"convertToInteractive('df-51c3b878-d494-4ead-bf65-64e27bf38aaf')\"\n",
              "            title=\"Convert this dataframe to an interactive table.\"\n",
              "            style=\"display:none;\">\n",
              "\n",
              "  <svg xmlns=\"http://www.w3.org/2000/svg\" height=\"24px\" viewBox=\"0 -960 960 960\">\n",
              "    <path d=\"M120-120v-720h720v720H120Zm60-500h600v-160H180v160Zm220 220h160v-160H400v160Zm0 220h160v-160H400v160ZM180-400h160v-160H180v160Zm440 0h160v-160H620v160ZM180-180h160v-160H180v160Zm440 0h160v-160H620v160Z\"/>\n",
              "  </svg>\n",
              "    </button>\n",
              "\n",
              "  <style>\n",
              "    .colab-df-container {\n",
              "      display:flex;\n",
              "      gap: 12px;\n",
              "    }\n",
              "\n",
              "    .colab-df-convert {\n",
              "      background-color: #E8F0FE;\n",
              "      border: none;\n",
              "      border-radius: 50%;\n",
              "      cursor: pointer;\n",
              "      display: none;\n",
              "      fill: #1967D2;\n",
              "      height: 32px;\n",
              "      padding: 0 0 0 0;\n",
              "      width: 32px;\n",
              "    }\n",
              "\n",
              "    .colab-df-convert:hover {\n",
              "      background-color: #E2EBFA;\n",
              "      box-shadow: 0px 1px 2px rgba(60, 64, 67, 0.3), 0px 1px 3px 1px rgba(60, 64, 67, 0.15);\n",
              "      fill: #174EA6;\n",
              "    }\n",
              "\n",
              "    .colab-df-buttons div {\n",
              "      margin-bottom: 4px;\n",
              "    }\n",
              "\n",
              "    [theme=dark] .colab-df-convert {\n",
              "      background-color: #3B4455;\n",
              "      fill: #D2E3FC;\n",
              "    }\n",
              "\n",
              "    [theme=dark] .colab-df-convert:hover {\n",
              "      background-color: #434B5C;\n",
              "      box-shadow: 0px 1px 3px 1px rgba(0, 0, 0, 0.15);\n",
              "      filter: drop-shadow(0px 1px 2px rgba(0, 0, 0, 0.3));\n",
              "      fill: #FFFFFF;\n",
              "    }\n",
              "  </style>\n",
              "\n",
              "    <script>\n",
              "      const buttonEl =\n",
              "        document.querySelector('#df-51c3b878-d494-4ead-bf65-64e27bf38aaf button.colab-df-convert');\n",
              "      buttonEl.style.display =\n",
              "        google.colab.kernel.accessAllowed ? 'block' : 'none';\n",
              "\n",
              "      async function convertToInteractive(key) {\n",
              "        const element = document.querySelector('#df-51c3b878-d494-4ead-bf65-64e27bf38aaf');\n",
              "        const dataTable =\n",
              "          await google.colab.kernel.invokeFunction('convertToInteractive',\n",
              "                                                    [key], {});\n",
              "        if (!dataTable) return;\n",
              "\n",
              "        const docLinkHtml = 'Like what you see? Visit the ' +\n",
              "          '<a target=\"_blank\" href=https://colab.research.google.com/notebooks/data_table.ipynb>data table notebook</a>'\n",
              "          + ' to learn more about interactive tables.';\n",
              "        element.innerHTML = '';\n",
              "        dataTable['output_type'] = 'display_data';\n",
              "        await google.colab.output.renderOutput(dataTable, element);\n",
              "        const docLink = document.createElement('div');\n",
              "        docLink.innerHTML = docLinkHtml;\n",
              "        element.appendChild(docLink);\n",
              "      }\n",
              "    </script>\n",
              "  </div>\n",
              "\n",
              "\n",
              "<div id=\"df-a23d9874-3418-41ca-a3ad-08e625ad2e0b\">\n",
              "  <button class=\"colab-df-quickchart\" onclick=\"quickchart('df-a23d9874-3418-41ca-a3ad-08e625ad2e0b')\"\n",
              "            title=\"Suggest charts\"\n",
              "            style=\"display:none;\">\n",
              "\n",
              "<svg xmlns=\"http://www.w3.org/2000/svg\" height=\"24px\"viewBox=\"0 0 24 24\"\n",
              "     width=\"24px\">\n",
              "    <g>\n",
              "        <path d=\"M19 3H5c-1.1 0-2 .9-2 2v14c0 1.1.9 2 2 2h14c1.1 0 2-.9 2-2V5c0-1.1-.9-2-2-2zM9 17H7v-7h2v7zm4 0h-2V7h2v10zm4 0h-2v-4h2v4z\"/>\n",
              "    </g>\n",
              "</svg>\n",
              "  </button>\n",
              "\n",
              "<style>\n",
              "  .colab-df-quickchart {\n",
              "      --bg-color: #E8F0FE;\n",
              "      --fill-color: #1967D2;\n",
              "      --hover-bg-color: #E2EBFA;\n",
              "      --hover-fill-color: #174EA6;\n",
              "      --disabled-fill-color: #AAA;\n",
              "      --disabled-bg-color: #DDD;\n",
              "  }\n",
              "\n",
              "  [theme=dark] .colab-df-quickchart {\n",
              "      --bg-color: #3B4455;\n",
              "      --fill-color: #D2E3FC;\n",
              "      --hover-bg-color: #434B5C;\n",
              "      --hover-fill-color: #FFFFFF;\n",
              "      --disabled-bg-color: #3B4455;\n",
              "      --disabled-fill-color: #666;\n",
              "  }\n",
              "\n",
              "  .colab-df-quickchart {\n",
              "    background-color: var(--bg-color);\n",
              "    border: none;\n",
              "    border-radius: 50%;\n",
              "    cursor: pointer;\n",
              "    display: none;\n",
              "    fill: var(--fill-color);\n",
              "    height: 32px;\n",
              "    padding: 0;\n",
              "    width: 32px;\n",
              "  }\n",
              "\n",
              "  .colab-df-quickchart:hover {\n",
              "    background-color: var(--hover-bg-color);\n",
              "    box-shadow: 0 1px 2px rgba(60, 64, 67, 0.3), 0 1px 3px 1px rgba(60, 64, 67, 0.15);\n",
              "    fill: var(--button-hover-fill-color);\n",
              "  }\n",
              "\n",
              "  .colab-df-quickchart-complete:disabled,\n",
              "  .colab-df-quickchart-complete:disabled:hover {\n",
              "    background-color: var(--disabled-bg-color);\n",
              "    fill: var(--disabled-fill-color);\n",
              "    box-shadow: none;\n",
              "  }\n",
              "\n",
              "  .colab-df-spinner {\n",
              "    border: 2px solid var(--fill-color);\n",
              "    border-color: transparent;\n",
              "    border-bottom-color: var(--fill-color);\n",
              "    animation:\n",
              "      spin 1s steps(1) infinite;\n",
              "  }\n",
              "\n",
              "  @keyframes spin {\n",
              "    0% {\n",
              "      border-color: transparent;\n",
              "      border-bottom-color: var(--fill-color);\n",
              "      border-left-color: var(--fill-color);\n",
              "    }\n",
              "    20% {\n",
              "      border-color: transparent;\n",
              "      border-left-color: var(--fill-color);\n",
              "      border-top-color: var(--fill-color);\n",
              "    }\n",
              "    30% {\n",
              "      border-color: transparent;\n",
              "      border-left-color: var(--fill-color);\n",
              "      border-top-color: var(--fill-color);\n",
              "      border-right-color: var(--fill-color);\n",
              "    }\n",
              "    40% {\n",
              "      border-color: transparent;\n",
              "      border-right-color: var(--fill-color);\n",
              "      border-top-color: var(--fill-color);\n",
              "    }\n",
              "    60% {\n",
              "      border-color: transparent;\n",
              "      border-right-color: var(--fill-color);\n",
              "    }\n",
              "    80% {\n",
              "      border-color: transparent;\n",
              "      border-right-color: var(--fill-color);\n",
              "      border-bottom-color: var(--fill-color);\n",
              "    }\n",
              "    90% {\n",
              "      border-color: transparent;\n",
              "      border-bottom-color: var(--fill-color);\n",
              "    }\n",
              "  }\n",
              "</style>\n",
              "\n",
              "  <script>\n",
              "    async function quickchart(key) {\n",
              "      const quickchartButtonEl =\n",
              "        document.querySelector('#' + key + ' button');\n",
              "      quickchartButtonEl.disabled = true;  // To prevent multiple clicks.\n",
              "      quickchartButtonEl.classList.add('colab-df-spinner');\n",
              "      try {\n",
              "        const charts = await google.colab.kernel.invokeFunction(\n",
              "            'suggestCharts', [key], {});\n",
              "      } catch (error) {\n",
              "        console.error('Error during call to suggestCharts:', error);\n",
              "      }\n",
              "      quickchartButtonEl.classList.remove('colab-df-spinner');\n",
              "      quickchartButtonEl.classList.add('colab-df-quickchart-complete');\n",
              "    }\n",
              "    (() => {\n",
              "      let quickchartButtonEl =\n",
              "        document.querySelector('#df-a23d9874-3418-41ca-a3ad-08e625ad2e0b button');\n",
              "      quickchartButtonEl.style.display =\n",
              "        google.colab.kernel.accessAllowed ? 'block' : 'none';\n",
              "    })();\n",
              "  </script>\n",
              "</div>\n",
              "\n",
              "    </div>\n",
              "  </div>\n"
            ],
            "application/vnd.google.colaboratory.intrinsic+json": {
              "type": "dataframe",
              "summary": "{\n  \"name\": \"data\",\n  \"rows\": 8,\n  \"fields\": [\n    {\n      \"column\": \"ProductID\",\n      \"properties\": {\n        \"dtype\": \"number\",\n        \"std\": 4991882.322517431,\n        \"min\": 12491.0,\n        \"max\": 10275139.0,\n        \"num_unique_values\": 8,\n        \"samples\": [\n          9917160.079577295,\n          10154629.0,\n          12491.0\n        ],\n        \"semantic_type\": \"\",\n        \"description\": \"\"\n      }\n    },\n    {\n      \"column\": \"Price (INR)\",\n      \"properties\": {\n        \"dtype\": \"number\",\n        \"std\": 21711.168158193803,\n        \"min\": 90.0,\n        \"max\": 63090.0,\n        \"num_unique_values\": 8,\n        \"samples\": [\n          1452.6609558882396,\n          920.0,\n          12491.0\n        ],\n        \"semantic_type\": \"\",\n        \"description\": \"\"\n      }\n    },\n    {\n      \"column\": \"NumImages\",\n      \"properties\": {\n        \"dtype\": \"number\",\n        \"std\": 4414.619743061711,\n        \"min\": 1.0,\n        \"max\": 12491.0,\n        \"num_unique_values\": 6,\n        \"samples\": [\n          12491.0,\n          4.913697862460972,\n          10.0\n        ],\n        \"semantic_type\": \"\",\n        \"description\": \"\"\n      }\n    }\n  ]\n}"
            }
          },
          "metadata": {},
          "execution_count": 6
        }
      ]
    },
    {
      "cell_type": "code",
      "source": [
        "most_expensive_products = data.groupby(['Gender'])[['ProductName','Price (INR)']].max()\n",
        "\n",
        "# Display the most expensive products for each category\n",
        "print(most_expensive_products)"
      ],
      "metadata": {
        "colab": {
          "base_uri": "https://localhost:8080/"
        },
        "id": "nnYc3YyY2MCe",
        "outputId": "0d214074-9bec-4604-d758-bc5a4fdab3a0"
      },
      "execution_count": null,
      "outputs": [
        {
          "output_type": "stream",
          "name": "stdout",
          "text": [
            "                                                   ProductName  Price (INR)\n",
            "Gender                                                                     \n",
            "Boys         t-base Boys Yellow Colourblocked Lightweight J...         3999\n",
            "Girls        t-base Girls Red Printed Lightweight Puffer Ja...         3800\n",
            "Men          plusS Men Navy Blue Solid Straight-Fit Trackpants        58854\n",
            "Unisex       fancy mart Yellow & Green Artificial Flowers a...        63090\n",
            "Unisex Kids  berrytree Unisex Navy Blue Solid Polo Collar S...         1799\n",
            "Women                             yelloe Black Solid Sling Bag        56192\n"
          ]
        }
      ]
    },
    {
      "cell_type": "code",
      "source": [
        "data.isnull().sum()"
      ],
      "metadata": {
        "colab": {
          "base_uri": "https://localhost:8080/"
        },
        "id": "1v9iIGkM2MFZ",
        "outputId": "f8c4f5ea-c4cd-451b-fa5b-b7ada5847e37"
      },
      "execution_count": null,
      "outputs": [
        {
          "output_type": "execute_result",
          "data": {
            "text/plain": [
              "ProductID         0\n",
              "ProductName       0\n",
              "ProductBrand      0\n",
              "Gender            0\n",
              "Price (INR)       0\n",
              "NumImages         0\n",
              "Description       0\n",
              "PrimaryColor    894\n",
              "dtype: int64"
            ]
          },
          "metadata": {},
          "execution_count": 7
        }
      ]
    },
    {
      "cell_type": "code",
      "source": [
        "data['PrimaryColor'] = data['PrimaryColor'].fillna('Unknown')"
      ],
      "metadata": {
        "id": "n92zV29j2MIw"
      },
      "execution_count": null,
      "outputs": []
    },
    {
      "cell_type": "code",
      "source": [
        "data.isnull().sum()"
      ],
      "metadata": {
        "colab": {
          "base_uri": "https://localhost:8080/"
        },
        "id": "Q71UMDEcGao7",
        "outputId": "772118d7-8bf0-4135-8d1a-a7c85fc9986b"
      },
      "execution_count": null,
      "outputs": [
        {
          "output_type": "execute_result",
          "data": {
            "text/plain": [
              "ProductID       0\n",
              "ProductName     0\n",
              "ProductBrand    0\n",
              "Gender          0\n",
              "Price (INR)     0\n",
              "NumImages       0\n",
              "Description     0\n",
              "PrimaryColor    0\n",
              "dtype: int64"
            ]
          },
          "metadata": {},
          "execution_count": 4
        }
      ]
    },
    {
      "cell_type": "code",
      "source": [
        "data_selected=data[['ProductBrand','Gender','Price (INR)','PrimaryColor']]"
      ],
      "metadata": {
        "id": "hG9LLchqGbbL"
      },
      "execution_count": null,
      "outputs": []
    },
    {
      "cell_type": "code",
      "source": [
        "data_selected.head()"
      ],
      "metadata": {
        "colab": {
          "base_uri": "https://localhost:8080/",
          "height": 206
        },
        "id": "JuGigpcrGbX2",
        "outputId": "f1494137-b2ba-4b95-f480-beb35affd11e"
      },
      "execution_count": null,
      "outputs": [
        {
          "output_type": "execute_result",
          "data": {
            "text/plain": [
              "  ProductBrand  Gender  Price (INR) PrimaryColor\n",
              "0         DKNY  Unisex        11745        Black\n",
              "1   EthnoVogue   Women         5810        Beige\n",
              "2       SPYKAR   Women          899         Pink\n",
              "3      Raymond     Men         5599         Blue\n",
              "4         Parx     Men          759        White"
            ],
            "text/html": [
              "\n",
              "  <div id=\"df-db7e8e1e-a4eb-43f1-b068-3617f6222501\" class=\"colab-df-container\">\n",
              "    <div>\n",
              "<style scoped>\n",
              "    .dataframe tbody tr th:only-of-type {\n",
              "        vertical-align: middle;\n",
              "    }\n",
              "\n",
              "    .dataframe tbody tr th {\n",
              "        vertical-align: top;\n",
              "    }\n",
              "\n",
              "    .dataframe thead th {\n",
              "        text-align: right;\n",
              "    }\n",
              "</style>\n",
              "<table border=\"1\" class=\"dataframe\">\n",
              "  <thead>\n",
              "    <tr style=\"text-align: right;\">\n",
              "      <th></th>\n",
              "      <th>ProductBrand</th>\n",
              "      <th>Gender</th>\n",
              "      <th>Price (INR)</th>\n",
              "      <th>PrimaryColor</th>\n",
              "    </tr>\n",
              "  </thead>\n",
              "  <tbody>\n",
              "    <tr>\n",
              "      <th>0</th>\n",
              "      <td>DKNY</td>\n",
              "      <td>Unisex</td>\n",
              "      <td>11745</td>\n",
              "      <td>Black</td>\n",
              "    </tr>\n",
              "    <tr>\n",
              "      <th>1</th>\n",
              "      <td>EthnoVogue</td>\n",
              "      <td>Women</td>\n",
              "      <td>5810</td>\n",
              "      <td>Beige</td>\n",
              "    </tr>\n",
              "    <tr>\n",
              "      <th>2</th>\n",
              "      <td>SPYKAR</td>\n",
              "      <td>Women</td>\n",
              "      <td>899</td>\n",
              "      <td>Pink</td>\n",
              "    </tr>\n",
              "    <tr>\n",
              "      <th>3</th>\n",
              "      <td>Raymond</td>\n",
              "      <td>Men</td>\n",
              "      <td>5599</td>\n",
              "      <td>Blue</td>\n",
              "    </tr>\n",
              "    <tr>\n",
              "      <th>4</th>\n",
              "      <td>Parx</td>\n",
              "      <td>Men</td>\n",
              "      <td>759</td>\n",
              "      <td>White</td>\n",
              "    </tr>\n",
              "  </tbody>\n",
              "</table>\n",
              "</div>\n",
              "    <div class=\"colab-df-buttons\">\n",
              "\n",
              "  <div class=\"colab-df-container\">\n",
              "    <button class=\"colab-df-convert\" onclick=\"convertToInteractive('df-db7e8e1e-a4eb-43f1-b068-3617f6222501')\"\n",
              "            title=\"Convert this dataframe to an interactive table.\"\n",
              "            style=\"display:none;\">\n",
              "\n",
              "  <svg xmlns=\"http://www.w3.org/2000/svg\" height=\"24px\" viewBox=\"0 -960 960 960\">\n",
              "    <path d=\"M120-120v-720h720v720H120Zm60-500h600v-160H180v160Zm220 220h160v-160H400v160Zm0 220h160v-160H400v160ZM180-400h160v-160H180v160Zm440 0h160v-160H620v160ZM180-180h160v-160H180v160Zm440 0h160v-160H620v160Z\"/>\n",
              "  </svg>\n",
              "    </button>\n",
              "\n",
              "  <style>\n",
              "    .colab-df-container {\n",
              "      display:flex;\n",
              "      gap: 12px;\n",
              "    }\n",
              "\n",
              "    .colab-df-convert {\n",
              "      background-color: #E8F0FE;\n",
              "      border: none;\n",
              "      border-radius: 50%;\n",
              "      cursor: pointer;\n",
              "      display: none;\n",
              "      fill: #1967D2;\n",
              "      height: 32px;\n",
              "      padding: 0 0 0 0;\n",
              "      width: 32px;\n",
              "    }\n",
              "\n",
              "    .colab-df-convert:hover {\n",
              "      background-color: #E2EBFA;\n",
              "      box-shadow: 0px 1px 2px rgba(60, 64, 67, 0.3), 0px 1px 3px 1px rgba(60, 64, 67, 0.15);\n",
              "      fill: #174EA6;\n",
              "    }\n",
              "\n",
              "    .colab-df-buttons div {\n",
              "      margin-bottom: 4px;\n",
              "    }\n",
              "\n",
              "    [theme=dark] .colab-df-convert {\n",
              "      background-color: #3B4455;\n",
              "      fill: #D2E3FC;\n",
              "    }\n",
              "\n",
              "    [theme=dark] .colab-df-convert:hover {\n",
              "      background-color: #434B5C;\n",
              "      box-shadow: 0px 1px 3px 1px rgba(0, 0, 0, 0.15);\n",
              "      filter: drop-shadow(0px 1px 2px rgba(0, 0, 0, 0.3));\n",
              "      fill: #FFFFFF;\n",
              "    }\n",
              "  </style>\n",
              "\n",
              "    <script>\n",
              "      const buttonEl =\n",
              "        document.querySelector('#df-db7e8e1e-a4eb-43f1-b068-3617f6222501 button.colab-df-convert');\n",
              "      buttonEl.style.display =\n",
              "        google.colab.kernel.accessAllowed ? 'block' : 'none';\n",
              "\n",
              "      async function convertToInteractive(key) {\n",
              "        const element = document.querySelector('#df-db7e8e1e-a4eb-43f1-b068-3617f6222501');\n",
              "        const dataTable =\n",
              "          await google.colab.kernel.invokeFunction('convertToInteractive',\n",
              "                                                    [key], {});\n",
              "        if (!dataTable) return;\n",
              "\n",
              "        const docLinkHtml = 'Like what you see? Visit the ' +\n",
              "          '<a target=\"_blank\" href=https://colab.research.google.com/notebooks/data_table.ipynb>data table notebook</a>'\n",
              "          + ' to learn more about interactive tables.';\n",
              "        element.innerHTML = '';\n",
              "        dataTable['output_type'] = 'display_data';\n",
              "        await google.colab.output.renderOutput(dataTable, element);\n",
              "        const docLink = document.createElement('div');\n",
              "        docLink.innerHTML = docLinkHtml;\n",
              "        element.appendChild(docLink);\n",
              "      }\n",
              "    </script>\n",
              "  </div>\n",
              "\n",
              "\n",
              "<div id=\"df-d188672d-01ad-4ed6-a1ed-e264e5d662e3\">\n",
              "  <button class=\"colab-df-quickchart\" onclick=\"quickchart('df-d188672d-01ad-4ed6-a1ed-e264e5d662e3')\"\n",
              "            title=\"Suggest charts\"\n",
              "            style=\"display:none;\">\n",
              "\n",
              "<svg xmlns=\"http://www.w3.org/2000/svg\" height=\"24px\"viewBox=\"0 0 24 24\"\n",
              "     width=\"24px\">\n",
              "    <g>\n",
              "        <path d=\"M19 3H5c-1.1 0-2 .9-2 2v14c0 1.1.9 2 2 2h14c1.1 0 2-.9 2-2V5c0-1.1-.9-2-2-2zM9 17H7v-7h2v7zm4 0h-2V7h2v10zm4 0h-2v-4h2v4z\"/>\n",
              "    </g>\n",
              "</svg>\n",
              "  </button>\n",
              "\n",
              "<style>\n",
              "  .colab-df-quickchart {\n",
              "      --bg-color: #E8F0FE;\n",
              "      --fill-color: #1967D2;\n",
              "      --hover-bg-color: #E2EBFA;\n",
              "      --hover-fill-color: #174EA6;\n",
              "      --disabled-fill-color: #AAA;\n",
              "      --disabled-bg-color: #DDD;\n",
              "  }\n",
              "\n",
              "  [theme=dark] .colab-df-quickchart {\n",
              "      --bg-color: #3B4455;\n",
              "      --fill-color: #D2E3FC;\n",
              "      --hover-bg-color: #434B5C;\n",
              "      --hover-fill-color: #FFFFFF;\n",
              "      --disabled-bg-color: #3B4455;\n",
              "      --disabled-fill-color: #666;\n",
              "  }\n",
              "\n",
              "  .colab-df-quickchart {\n",
              "    background-color: var(--bg-color);\n",
              "    border: none;\n",
              "    border-radius: 50%;\n",
              "    cursor: pointer;\n",
              "    display: none;\n",
              "    fill: var(--fill-color);\n",
              "    height: 32px;\n",
              "    padding: 0;\n",
              "    width: 32px;\n",
              "  }\n",
              "\n",
              "  .colab-df-quickchart:hover {\n",
              "    background-color: var(--hover-bg-color);\n",
              "    box-shadow: 0 1px 2px rgba(60, 64, 67, 0.3), 0 1px 3px 1px rgba(60, 64, 67, 0.15);\n",
              "    fill: var(--button-hover-fill-color);\n",
              "  }\n",
              "\n",
              "  .colab-df-quickchart-complete:disabled,\n",
              "  .colab-df-quickchart-complete:disabled:hover {\n",
              "    background-color: var(--disabled-bg-color);\n",
              "    fill: var(--disabled-fill-color);\n",
              "    box-shadow: none;\n",
              "  }\n",
              "\n",
              "  .colab-df-spinner {\n",
              "    border: 2px solid var(--fill-color);\n",
              "    border-color: transparent;\n",
              "    border-bottom-color: var(--fill-color);\n",
              "    animation:\n",
              "      spin 1s steps(1) infinite;\n",
              "  }\n",
              "\n",
              "  @keyframes spin {\n",
              "    0% {\n",
              "      border-color: transparent;\n",
              "      border-bottom-color: var(--fill-color);\n",
              "      border-left-color: var(--fill-color);\n",
              "    }\n",
              "    20% {\n",
              "      border-color: transparent;\n",
              "      border-left-color: var(--fill-color);\n",
              "      border-top-color: var(--fill-color);\n",
              "    }\n",
              "    30% {\n",
              "      border-color: transparent;\n",
              "      border-left-color: var(--fill-color);\n",
              "      border-top-color: var(--fill-color);\n",
              "      border-right-color: var(--fill-color);\n",
              "    }\n",
              "    40% {\n",
              "      border-color: transparent;\n",
              "      border-right-color: var(--fill-color);\n",
              "      border-top-color: var(--fill-color);\n",
              "    }\n",
              "    60% {\n",
              "      border-color: transparent;\n",
              "      border-right-color: var(--fill-color);\n",
              "    }\n",
              "    80% {\n",
              "      border-color: transparent;\n",
              "      border-right-color: var(--fill-color);\n",
              "      border-bottom-color: var(--fill-color);\n",
              "    }\n",
              "    90% {\n",
              "      border-color: transparent;\n",
              "      border-bottom-color: var(--fill-color);\n",
              "    }\n",
              "  }\n",
              "</style>\n",
              "\n",
              "  <script>\n",
              "    async function quickchart(key) {\n",
              "      const quickchartButtonEl =\n",
              "        document.querySelector('#' + key + ' button');\n",
              "      quickchartButtonEl.disabled = true;  // To prevent multiple clicks.\n",
              "      quickchartButtonEl.classList.add('colab-df-spinner');\n",
              "      try {\n",
              "        const charts = await google.colab.kernel.invokeFunction(\n",
              "            'suggestCharts', [key], {});\n",
              "      } catch (error) {\n",
              "        console.error('Error during call to suggestCharts:', error);\n",
              "      }\n",
              "      quickchartButtonEl.classList.remove('colab-df-spinner');\n",
              "      quickchartButtonEl.classList.add('colab-df-quickchart-complete');\n",
              "    }\n",
              "    (() => {\n",
              "      let quickchartButtonEl =\n",
              "        document.querySelector('#df-d188672d-01ad-4ed6-a1ed-e264e5d662e3 button');\n",
              "      quickchartButtonEl.style.display =\n",
              "        google.colab.kernel.accessAllowed ? 'block' : 'none';\n",
              "    })();\n",
              "  </script>\n",
              "</div>\n",
              "\n",
              "    </div>\n",
              "  </div>\n"
            ],
            "application/vnd.google.colaboratory.intrinsic+json": {
              "type": "dataframe",
              "variable_name": "data_selected",
              "summary": "{\n  \"name\": \"data_selected\",\n  \"rows\": 12491,\n  \"fields\": [\n    {\n      \"column\": \"ProductBrand\",\n      \"properties\": {\n        \"dtype\": \"category\",\n        \"num_unique_values\": 677,\n        \"samples\": [\n          \"QUIERO\",\n          \"Deco Window\",\n          \"Ishin\"\n        ],\n        \"semantic_type\": \"\",\n        \"description\": \"\"\n      }\n    },\n    {\n      \"column\": \"Gender\",\n      \"properties\": {\n        \"dtype\": \"category\",\n        \"num_unique_values\": 6,\n        \"samples\": [\n          \"Unisex\",\n          \"Women\",\n          \"Unisex Kids\"\n        ],\n        \"semantic_type\": \"\",\n        \"description\": \"\"\n      }\n    },\n    {\n      \"column\": \"Price (INR)\",\n      \"properties\": {\n        \"dtype\": \"number\",\n        \"std\": 2118,\n        \"min\": 90,\n        \"max\": 63090,\n        \"num_unique_values\": 1543,\n        \"samples\": [\n          708,\n          3699,\n          1371\n        ],\n        \"semantic_type\": \"\",\n        \"description\": \"\"\n      }\n    },\n    {\n      \"column\": \"PrimaryColor\",\n      \"properties\": {\n        \"dtype\": \"category\",\n        \"num_unique_values\": 28,\n        \"samples\": [\n          \"Unknown\",\n          \" Peach\",\n          \" Green\"\n        ],\n        \"semantic_type\": \"\",\n        \"description\": \"\"\n      }\n    }\n  ]\n}"
            }
          },
          "metadata": {},
          "execution_count": 27
        }
      ]
    },
    {
      "cell_type": "code",
      "source": [
        "from sklearn.preprocessing import LabelEncoder"
      ],
      "metadata": {
        "id": "3d94GYd3ICqf"
      },
      "execution_count": null,
      "outputs": []
    },
    {
      "cell_type": "code",
      "source": [
        "label_encoder = LabelEncoder()"
      ],
      "metadata": {
        "id": "52sCNAPPICUy"
      },
      "execution_count": null,
      "outputs": []
    },
    {
      "cell_type": "code",
      "source": [
        "data_selected['ProductBrand_encoded'] = label_encoder.fit_transform(data_selected['ProductBrand'])\n",
        "data_selected['Gender_encoded'] = label_encoder.fit_transform(data_selected['Gender'])\n",
        "data_selected['PrimaryColor_encoded'] = label_encoder.fit_transform(data_selected['PrimaryColor'])"
      ],
      "metadata": {
        "colab": {
          "base_uri": "https://localhost:8080/"
        },
        "id": "7YZ_s_IoGbVc",
        "outputId": "bd19fc8d-b386-4c34-92e1-7617e393c7e7"
      },
      "execution_count": null,
      "outputs": [
        {
          "output_type": "stream",
          "name": "stderr",
          "text": [
            "<ipython-input-7-5c6c0c99e62c>:1: SettingWithCopyWarning: \n",
            "A value is trying to be set on a copy of a slice from a DataFrame.\n",
            "Try using .loc[row_indexer,col_indexer] = value instead\n",
            "\n",
            "See the caveats in the documentation: https://pandas.pydata.org/pandas-docs/stable/user_guide/indexing.html#returning-a-view-versus-a-copy\n",
            "  data_selected['ProductBrand_encoded'] = label_encoder.fit_transform(data_selected['ProductBrand'])\n",
            "<ipython-input-7-5c6c0c99e62c>:2: SettingWithCopyWarning: \n",
            "A value is trying to be set on a copy of a slice from a DataFrame.\n",
            "Try using .loc[row_indexer,col_indexer] = value instead\n",
            "\n",
            "See the caveats in the documentation: https://pandas.pydata.org/pandas-docs/stable/user_guide/indexing.html#returning-a-view-versus-a-copy\n",
            "  data_selected['Gender_encoded'] = label_encoder.fit_transform(data_selected['Gender'])\n",
            "<ipython-input-7-5c6c0c99e62c>:3: SettingWithCopyWarning: \n",
            "A value is trying to be set on a copy of a slice from a DataFrame.\n",
            "Try using .loc[row_indexer,col_indexer] = value instead\n",
            "\n",
            "See the caveats in the documentation: https://pandas.pydata.org/pandas-docs/stable/user_guide/indexing.html#returning-a-view-versus-a-copy\n",
            "  data_selected['PrimaryColor_encoded'] = label_encoder.fit_transform(data_selected['PrimaryColor'])\n"
          ]
        }
      ]
    },
    {
      "cell_type": "code",
      "source": [
        "def price_cat(x):\n",
        "  if x<1000:\n",
        "    return 'below 1000'\n",
        "  elif x>1000 and x<2000:\n",
        "    return '1000-2000'\n",
        "  elif x>2000 and x<3000:\n",
        "    return '2000-3000'\n",
        "  elif x>3000 and x<4000:\n",
        "    return '3000-4000'\n",
        "  elif x>4000 and x<5000:\n",
        "    return '4000-5000'\n",
        "  elif x>5000 and x<6000:\n",
        "    return '1000-2000'\n",
        "  else :\n",
        "    return 'above 6000'"
      ],
      "metadata": {
        "id": "ZEc3eWcgmg0H"
      },
      "execution_count": null,
      "outputs": []
    },
    {
      "cell_type": "code",
      "source": [
        "price_cat(150)"
      ],
      "metadata": {
        "colab": {
          "base_uri": "https://localhost:8080/",
          "height": 35
        },
        "id": "8dfnPfk4mgxJ",
        "outputId": "21a9ff28-e186-4fe3-b965-c7564f714148"
      },
      "execution_count": null,
      "outputs": [
        {
          "output_type": "execute_result",
          "data": {
            "text/plain": [
              "'below 1000'"
            ],
            "application/vnd.google.colaboratory.intrinsic+json": {
              "type": "string"
            }
          },
          "metadata": {},
          "execution_count": 2
        }
      ]
    },
    {
      "cell_type": "code",
      "source": [
        "data_selected['Price (INR)']=data_selected['Price (INR)'].apply(price_cat)"
      ],
      "metadata": {
        "colab": {
          "base_uri": "https://localhost:8080/"
        },
        "id": "9GdL1TaWmgnp",
        "outputId": "1a134533-8afc-40fe-8225-570a221f0106"
      },
      "execution_count": null,
      "outputs": [
        {
          "output_type": "stream",
          "name": "stderr",
          "text": [
            "<ipython-input-9-9ed475013a1d>:1: SettingWithCopyWarning: \n",
            "A value is trying to be set on a copy of a slice from a DataFrame.\n",
            "Try using .loc[row_indexer,col_indexer] = value instead\n",
            "\n",
            "See the caveats in the documentation: https://pandas.pydata.org/pandas-docs/stable/user_guide/indexing.html#returning-a-view-versus-a-copy\n",
            "  data_selected['Price (INR)']=data_selected['Price (INR)'].apply(price_cat)\n"
          ]
        }
      ]
    },
    {
      "cell_type": "code",
      "source": [
        "data_selected['Price_encoded'] = label_encoder.fit_transform(data_selected['Price (INR)'])"
      ],
      "metadata": {
        "id": "rPZRlubJrDf2"
      },
      "execution_count": null,
      "outputs": []
    },
    {
      "cell_type": "code",
      "source": [
        "data_selected.drop(columns=['Price (INR)','ProductBrand','Gender','PrimaryColor'], inplace=True)"
      ],
      "metadata": {
        "id": "VpeDcznkrDs-"
      },
      "execution_count": null,
      "outputs": []
    },
    {
      "cell_type": "code",
      "source": [
        "from sklearn.preprocessing import LabelEncoder, MinMaxScaler"
      ],
      "metadata": {
        "id": "HkwDuvjAstbU"
      },
      "execution_count": null,
      "outputs": []
    },
    {
      "cell_type": "code",
      "source": [
        "scaler = MinMaxScaler()\n",
        "\n",
        "data_selected = scaler.fit_transform(data_selected)"
      ],
      "metadata": {
        "id": "wXRDMv0EstX4"
      },
      "execution_count": null,
      "outputs": []
    },
    {
      "cell_type": "code",
      "source": [
        "df = pd.DataFrame(data_selected)"
      ],
      "metadata": {
        "id": "qcuUCJZSwWyp"
      },
      "execution_count": null,
      "outputs": []
    },
    {
      "cell_type": "code",
      "source": [
        "df.head()"
      ],
      "metadata": {
        "colab": {
          "base_uri": "https://localhost:8080/",
          "height": 206
        },
        "id": "pitqqfqoKXQj",
        "outputId": "24f07344-edf2-4c61-de5a-a7eb82106ba3"
      },
      "execution_count": null,
      "outputs": [
        {
          "output_type": "execute_result",
          "data": {
            "text/plain": [
              "          0    1         2    3\n",
              "0  0.213018  0.6  0.037037  0.8\n",
              "1  0.264793  1.0  0.000000  0.0\n",
              "2  0.736686  1.0  0.666667  1.0\n",
              "3  0.689349  0.4  0.962963  0.0\n",
              "4  0.633136  0.4  0.888889  1.0"
            ],
            "text/html": [
              "\n",
              "  <div id=\"df-8b23289d-5c4f-408f-be08-b2bfee5eab24\" class=\"colab-df-container\">\n",
              "    <div>\n",
              "<style scoped>\n",
              "    .dataframe tbody tr th:only-of-type {\n",
              "        vertical-align: middle;\n",
              "    }\n",
              "\n",
              "    .dataframe tbody tr th {\n",
              "        vertical-align: top;\n",
              "    }\n",
              "\n",
              "    .dataframe thead th {\n",
              "        text-align: right;\n",
              "    }\n",
              "</style>\n",
              "<table border=\"1\" class=\"dataframe\">\n",
              "  <thead>\n",
              "    <tr style=\"text-align: right;\">\n",
              "      <th></th>\n",
              "      <th>0</th>\n",
              "      <th>1</th>\n",
              "      <th>2</th>\n",
              "      <th>3</th>\n",
              "    </tr>\n",
              "  </thead>\n",
              "  <tbody>\n",
              "    <tr>\n",
              "      <th>0</th>\n",
              "      <td>0.213018</td>\n",
              "      <td>0.6</td>\n",
              "      <td>0.037037</td>\n",
              "      <td>0.8</td>\n",
              "    </tr>\n",
              "    <tr>\n",
              "      <th>1</th>\n",
              "      <td>0.264793</td>\n",
              "      <td>1.0</td>\n",
              "      <td>0.000000</td>\n",
              "      <td>0.0</td>\n",
              "    </tr>\n",
              "    <tr>\n",
              "      <th>2</th>\n",
              "      <td>0.736686</td>\n",
              "      <td>1.0</td>\n",
              "      <td>0.666667</td>\n",
              "      <td>1.0</td>\n",
              "    </tr>\n",
              "    <tr>\n",
              "      <th>3</th>\n",
              "      <td>0.689349</td>\n",
              "      <td>0.4</td>\n",
              "      <td>0.962963</td>\n",
              "      <td>0.0</td>\n",
              "    </tr>\n",
              "    <tr>\n",
              "      <th>4</th>\n",
              "      <td>0.633136</td>\n",
              "      <td>0.4</td>\n",
              "      <td>0.888889</td>\n",
              "      <td>1.0</td>\n",
              "    </tr>\n",
              "  </tbody>\n",
              "</table>\n",
              "</div>\n",
              "    <div class=\"colab-df-buttons\">\n",
              "\n",
              "  <div class=\"colab-df-container\">\n",
              "    <button class=\"colab-df-convert\" onclick=\"convertToInteractive('df-8b23289d-5c4f-408f-be08-b2bfee5eab24')\"\n",
              "            title=\"Convert this dataframe to an interactive table.\"\n",
              "            style=\"display:none;\">\n",
              "\n",
              "  <svg xmlns=\"http://www.w3.org/2000/svg\" height=\"24px\" viewBox=\"0 -960 960 960\">\n",
              "    <path d=\"M120-120v-720h720v720H120Zm60-500h600v-160H180v160Zm220 220h160v-160H400v160Zm0 220h160v-160H400v160ZM180-400h160v-160H180v160Zm440 0h160v-160H620v160ZM180-180h160v-160H180v160Zm440 0h160v-160H620v160Z\"/>\n",
              "  </svg>\n",
              "    </button>\n",
              "\n",
              "  <style>\n",
              "    .colab-df-container {\n",
              "      display:flex;\n",
              "      gap: 12px;\n",
              "    }\n",
              "\n",
              "    .colab-df-convert {\n",
              "      background-color: #E8F0FE;\n",
              "      border: none;\n",
              "      border-radius: 50%;\n",
              "      cursor: pointer;\n",
              "      display: none;\n",
              "      fill: #1967D2;\n",
              "      height: 32px;\n",
              "      padding: 0 0 0 0;\n",
              "      width: 32px;\n",
              "    }\n",
              "\n",
              "    .colab-df-convert:hover {\n",
              "      background-color: #E2EBFA;\n",
              "      box-shadow: 0px 1px 2px rgba(60, 64, 67, 0.3), 0px 1px 3px 1px rgba(60, 64, 67, 0.15);\n",
              "      fill: #174EA6;\n",
              "    }\n",
              "\n",
              "    .colab-df-buttons div {\n",
              "      margin-bottom: 4px;\n",
              "    }\n",
              "\n",
              "    [theme=dark] .colab-df-convert {\n",
              "      background-color: #3B4455;\n",
              "      fill: #D2E3FC;\n",
              "    }\n",
              "\n",
              "    [theme=dark] .colab-df-convert:hover {\n",
              "      background-color: #434B5C;\n",
              "      box-shadow: 0px 1px 3px 1px rgba(0, 0, 0, 0.15);\n",
              "      filter: drop-shadow(0px 1px 2px rgba(0, 0, 0, 0.3));\n",
              "      fill: #FFFFFF;\n",
              "    }\n",
              "  </style>\n",
              "\n",
              "    <script>\n",
              "      const buttonEl =\n",
              "        document.querySelector('#df-8b23289d-5c4f-408f-be08-b2bfee5eab24 button.colab-df-convert');\n",
              "      buttonEl.style.display =\n",
              "        google.colab.kernel.accessAllowed ? 'block' : 'none';\n",
              "\n",
              "      async function convertToInteractive(key) {\n",
              "        const element = document.querySelector('#df-8b23289d-5c4f-408f-be08-b2bfee5eab24');\n",
              "        const dataTable =\n",
              "          await google.colab.kernel.invokeFunction('convertToInteractive',\n",
              "                                                    [key], {});\n",
              "        if (!dataTable) return;\n",
              "\n",
              "        const docLinkHtml = 'Like what you see? Visit the ' +\n",
              "          '<a target=\"_blank\" href=https://colab.research.google.com/notebooks/data_table.ipynb>data table notebook</a>'\n",
              "          + ' to learn more about interactive tables.';\n",
              "        element.innerHTML = '';\n",
              "        dataTable['output_type'] = 'display_data';\n",
              "        await google.colab.output.renderOutput(dataTable, element);\n",
              "        const docLink = document.createElement('div');\n",
              "        docLink.innerHTML = docLinkHtml;\n",
              "        element.appendChild(docLink);\n",
              "      }\n",
              "    </script>\n",
              "  </div>\n",
              "\n",
              "\n",
              "<div id=\"df-ea88fe55-239e-4732-9def-7c48c91043f1\">\n",
              "  <button class=\"colab-df-quickchart\" onclick=\"quickchart('df-ea88fe55-239e-4732-9def-7c48c91043f1')\"\n",
              "            title=\"Suggest charts\"\n",
              "            style=\"display:none;\">\n",
              "\n",
              "<svg xmlns=\"http://www.w3.org/2000/svg\" height=\"24px\"viewBox=\"0 0 24 24\"\n",
              "     width=\"24px\">\n",
              "    <g>\n",
              "        <path d=\"M19 3H5c-1.1 0-2 .9-2 2v14c0 1.1.9 2 2 2h14c1.1 0 2-.9 2-2V5c0-1.1-.9-2-2-2zM9 17H7v-7h2v7zm4 0h-2V7h2v10zm4 0h-2v-4h2v4z\"/>\n",
              "    </g>\n",
              "</svg>\n",
              "  </button>\n",
              "\n",
              "<style>\n",
              "  .colab-df-quickchart {\n",
              "      --bg-color: #E8F0FE;\n",
              "      --fill-color: #1967D2;\n",
              "      --hover-bg-color: #E2EBFA;\n",
              "      --hover-fill-color: #174EA6;\n",
              "      --disabled-fill-color: #AAA;\n",
              "      --disabled-bg-color: #DDD;\n",
              "  }\n",
              "\n",
              "  [theme=dark] .colab-df-quickchart {\n",
              "      --bg-color: #3B4455;\n",
              "      --fill-color: #D2E3FC;\n",
              "      --hover-bg-color: #434B5C;\n",
              "      --hover-fill-color: #FFFFFF;\n",
              "      --disabled-bg-color: #3B4455;\n",
              "      --disabled-fill-color: #666;\n",
              "  }\n",
              "\n",
              "  .colab-df-quickchart {\n",
              "    background-color: var(--bg-color);\n",
              "    border: none;\n",
              "    border-radius: 50%;\n",
              "    cursor: pointer;\n",
              "    display: none;\n",
              "    fill: var(--fill-color);\n",
              "    height: 32px;\n",
              "    padding: 0;\n",
              "    width: 32px;\n",
              "  }\n",
              "\n",
              "  .colab-df-quickchart:hover {\n",
              "    background-color: var(--hover-bg-color);\n",
              "    box-shadow: 0 1px 2px rgba(60, 64, 67, 0.3), 0 1px 3px 1px rgba(60, 64, 67, 0.15);\n",
              "    fill: var(--button-hover-fill-color);\n",
              "  }\n",
              "\n",
              "  .colab-df-quickchart-complete:disabled,\n",
              "  .colab-df-quickchart-complete:disabled:hover {\n",
              "    background-color: var(--disabled-bg-color);\n",
              "    fill: var(--disabled-fill-color);\n",
              "    box-shadow: none;\n",
              "  }\n",
              "\n",
              "  .colab-df-spinner {\n",
              "    border: 2px solid var(--fill-color);\n",
              "    border-color: transparent;\n",
              "    border-bottom-color: var(--fill-color);\n",
              "    animation:\n",
              "      spin 1s steps(1) infinite;\n",
              "  }\n",
              "\n",
              "  @keyframes spin {\n",
              "    0% {\n",
              "      border-color: transparent;\n",
              "      border-bottom-color: var(--fill-color);\n",
              "      border-left-color: var(--fill-color);\n",
              "    }\n",
              "    20% {\n",
              "      border-color: transparent;\n",
              "      border-left-color: var(--fill-color);\n",
              "      border-top-color: var(--fill-color);\n",
              "    }\n",
              "    30% {\n",
              "      border-color: transparent;\n",
              "      border-left-color: var(--fill-color);\n",
              "      border-top-color: var(--fill-color);\n",
              "      border-right-color: var(--fill-color);\n",
              "    }\n",
              "    40% {\n",
              "      border-color: transparent;\n",
              "      border-right-color: var(--fill-color);\n",
              "      border-top-color: var(--fill-color);\n",
              "    }\n",
              "    60% {\n",
              "      border-color: transparent;\n",
              "      border-right-color: var(--fill-color);\n",
              "    }\n",
              "    80% {\n",
              "      border-color: transparent;\n",
              "      border-right-color: var(--fill-color);\n",
              "      border-bottom-color: var(--fill-color);\n",
              "    }\n",
              "    90% {\n",
              "      border-color: transparent;\n",
              "      border-bottom-color: var(--fill-color);\n",
              "    }\n",
              "  }\n",
              "</style>\n",
              "\n",
              "  <script>\n",
              "    async function quickchart(key) {\n",
              "      const quickchartButtonEl =\n",
              "        document.querySelector('#' + key + ' button');\n",
              "      quickchartButtonEl.disabled = true;  // To prevent multiple clicks.\n",
              "      quickchartButtonEl.classList.add('colab-df-spinner');\n",
              "      try {\n",
              "        const charts = await google.colab.kernel.invokeFunction(\n",
              "            'suggestCharts', [key], {});\n",
              "      } catch (error) {\n",
              "        console.error('Error during call to suggestCharts:', error);\n",
              "      }\n",
              "      quickchartButtonEl.classList.remove('colab-df-spinner');\n",
              "      quickchartButtonEl.classList.add('colab-df-quickchart-complete');\n",
              "    }\n",
              "    (() => {\n",
              "      let quickchartButtonEl =\n",
              "        document.querySelector('#df-ea88fe55-239e-4732-9def-7c48c91043f1 button');\n",
              "      quickchartButtonEl.style.display =\n",
              "        google.colab.kernel.accessAllowed ? 'block' : 'none';\n",
              "    })();\n",
              "  </script>\n",
              "</div>\n",
              "\n",
              "    </div>\n",
              "  </div>\n"
            ],
            "application/vnd.google.colaboratory.intrinsic+json": {
              "type": "dataframe",
              "variable_name": "df",
              "summary": "{\n  \"name\": \"df\",\n  \"rows\": 12491,\n  \"fields\": [\n    {\n      \"column\": 0,\n      \"properties\": {\n        \"dtype\": \"number\",\n        \"std\": 0.2691566002018884,\n        \"min\": 0.0,\n        \"max\": 1.0,\n        \"num_unique_values\": 677,\n        \"samples\": [\n          0.6671597633136095,\n          0.22781065088757396,\n          0.41715976331360943\n        ],\n        \"semantic_type\": \"\",\n        \"description\": \"\"\n      }\n    },\n    {\n      \"column\": 1,\n      \"properties\": {\n        \"dtype\": \"number\",\n        \"std\": 0.34243197135496545,\n        \"min\": 0.0,\n        \"max\": 1.0,\n        \"num_unique_values\": 6,\n        \"samples\": [\n          0.6000000000000001,\n          1.0,\n          0.8\n        ],\n        \"semantic_type\": \"\",\n        \"description\": \"\"\n      }\n    },\n    {\n      \"column\": 2,\n      \"properties\": {\n        \"dtype\": \"number\",\n        \"std\": 0.3699336314060085,\n        \"min\": 0.0,\n        \"max\": 1.0,\n        \"num_unique_values\": 28,\n        \"samples\": [\n          1.0,\n          0.6296296296296295,\n          0.25925925925925924\n        ],\n        \"semantic_type\": \"\",\n        \"description\": \"\"\n      }\n    },\n    {\n      \"column\": 3,\n      \"properties\": {\n        \"dtype\": \"number\",\n        \"std\": 0.45889753500135105,\n        \"min\": 0.0,\n        \"max\": 1.0,\n        \"num_unique_values\": 6,\n        \"samples\": [\n          0.8,\n          0.0,\n          0.4\n        ],\n        \"semantic_type\": \"\",\n        \"description\": \"\"\n      }\n    }\n  ]\n}"
            }
          },
          "metadata": {},
          "execution_count": 15
        }
      ]
    },
    {
      "cell_type": "code",
      "source": [
        "from sklearn.metrics.pairwise import cosine_similarity"
      ],
      "metadata": {
        "id": "BQQyA-pEyN22"
      },
      "execution_count": null,
      "outputs": []
    },
    {
      "cell_type": "code",
      "source": [
        "similarity_matrix = cosine_similarity(df)"
      ],
      "metadata": {
        "id": "BJoFXyurstST"
      },
      "execution_count": null,
      "outputs": []
    },
    {
      "cell_type": "code",
      "source": [
        "from sklearn.feature_extraction.text import TfidfVectorizer\n",
        "from sklearn.metrics.pairwise import cosine_similarity"
      ],
      "metadata": {
        "id": "nmU0331WS9ir"
      },
      "execution_count": null,
      "outputs": []
    },
    {
      "cell_type": "code",
      "source": [
        "tfidf_vectorizer = TfidfVectorizer(stop_words='english')\n",
        "tfidf_matrix = tfidf_vectorizer.fit_transform(data['Description'].fillna(''))\n",
        "\n"
      ],
      "metadata": {
        "id": "v9Xos0vM-ehb"
      },
      "execution_count": null,
      "outputs": []
    },
    {
      "cell_type": "code",
      "source": [
        "from sklearn.metrics.pairwise import sigmoid_kernel"
      ],
      "metadata": {
        "id": "TDHiQoW2eLwT"
      },
      "execution_count": null,
      "outputs": []
    },
    {
      "cell_type": "code",
      "source": [
        "sig=sigmoid_kernel(tfidf_matrix, tfidf_matrix)"
      ],
      "metadata": {
        "id": "c7fRwnvSeLki"
      },
      "execution_count": null,
      "outputs": []
    },
    {
      "cell_type": "code",
      "source": [
        "import pandas as pd"
      ],
      "metadata": {
        "id": "zp83_mNufJuS"
      },
      "execution_count": null,
      "outputs": []
    },
    {
      "cell_type": "code",
      "source": [
        "indices=pd.Series(data.index,index=data['ProductName']).drop_duplicates()"
      ],
      "metadata": {
        "id": "rhJQ-c-kehWL"
      },
      "execution_count": null,
      "outputs": []
    },
    {
      "cell_type": "code",
      "source": [
        "indices.tail(15)"
      ],
      "metadata": {
        "colab": {
          "base_uri": "https://localhost:8080/"
        },
        "id": "_ammp8s_ktkI",
        "outputId": "babb0483-8c8b-472e-cf1b-7ae1fd08f697"
      },
      "execution_count": null,
      "outputs": [
        {
          "output_type": "execute_result",
          "data": {
            "text/plain": [
              "ProductName\n",
              "Calvin Klein Jeans Men Blue Regular Fit Solid Casual Shirt                     12476\n",
              "Sonari Pack of 2 Bras cristina                                                 12477\n",
              "Pepe Jeans Men Navy Blue Printed Round Neck T-shirt                            12478\n",
              "Vero Moda Women Black & White Checked Top                                      12479\n",
              "INVU Men Blue Aviator Sunglasses B2945B                                        12480\n",
              "Sonari Pack of 2 Bras afreen                                                   12481\n",
              "Belle Fille Women Olive Green & White Polka Dot Print Basic Jumpsuit           12482\n",
              "Sonari Pack of 2 Full-Coverage Bras celina                                     12483\n",
              "Pepe Jeans Men Blue Printed Slim Pure Cotton Round Neck T-shirt                12484\n",
              "Laceandme Black Lace Non-Wired Lightly Padded Bralette Bra 4760                12485\n",
              "Pepe Jeans Men Black Hammock Slim Fit Low-Rise Clean Look Stretchable Jeans    12486\n",
              "Mochi Women Gold-Toned Solid Heels                                             12487\n",
              "612 league Girls Navy Blue & White Printed Regular Fit Denim Shorts            12488\n",
              "Bvlgari Men Aqva Pour Homme Marine Eau de Toilette 150ml                       12489\n",
              "Pepe Jeans Men Black & Grey Striped Polo Collar T-shirt                        12490\n",
              "dtype: int64"
            ]
          },
          "metadata": {},
          "execution_count": 64
        }
      ]
    },
    {
      "cell_type": "code",
      "source": [
        "indices.head(14)"
      ],
      "metadata": {
        "colab": {
          "base_uri": "https://localhost:8080/"
        },
        "id": "juvmI8bxehDv",
        "outputId": "68171a1d-87fb-4c2e-bb6c-2f6b1a62b14a"
      },
      "execution_count": null,
      "outputs": [
        {
          "output_type": "execute_result",
          "data": {
            "text/plain": [
              "ProductName\n",
              "DKNY Unisex Black & Grey Printed Medium Trolley Bag                                           0\n",
              "EthnoVogue Women Beige & Grey Made to Measure Custom Made Kurta Set with Jacket               1\n",
              "SPYKAR Women Pink Alexa Super Skinny Fit High-Rise Clean Look Stretchable Cropped Jeans       2\n",
              "Raymond Men Blue Self-Design Single-Breasted Bandhgala Suit                                   3\n",
              "Parx Men Brown & Off-White Slim Fit Printed Casual Shirt                                      4\n",
              "SHOWOFF Men Brown Solid Slim Fit Regular Shorts                                               5\n",
              "Parx Men Blue Slim Fit Checked Casual Shirt                                                   6\n",
              "SPYKAR Women Burgundy Alexa Super Skinny Fit High-Rise Clean Look Stretchable Ankle Jeans     7\n",
              "Parx Men Brown Tapered Fit Solid Regular Trousers                                             8\n",
              "DKNY Unisex Black Large Trolley Bag                                                           9\n",
              "Kenneth Cole Women Navy Blue Solid Backpack                                                  10\n",
              "Parx Men Green Printed Polo Collar T-shirt                                                   11\n",
              "Police Men To Be The King Eau De Toilette 125 ml                                             12\n",
              "Vishudh Women Maroon Printed Kurta with Palazzos                                             13\n",
              "dtype: int64"
            ]
          },
          "metadata": {},
          "execution_count": 62
        }
      ]
    },
    {
      "cell_type": "code",
      "source": [
        "# Compute cosine similarity matrix\n",
        "cosine_sim = cosine_similarity(tfidf_matrix, tfidf_matrix)"
      ],
      "metadata": {
        "id": "2a3IdK4B-eeE"
      },
      "execution_count": null,
      "outputs": []
    },
    {
      "cell_type": "code",
      "source": [
        "def recommend_similar_products(ProductName, sig=sig):\n",
        "    idx = indices[ProductName]\n",
        "    sig_scores=list(enumerate(sig[idx]))\n",
        "    sig_scores = sorted(sig_scores, key=lambda x: x[1], reverse=True)\n",
        "    sig_scores=sig_scores[1:11]\n",
        "    similar_product_indices = [i[0] for i in sig_scores]\n",
        "    return data['ProductName'].iloc[similar_product_indices]\n"
      ],
      "metadata": {
        "id": "oDG1HTgqgH7A"
      },
      "execution_count": null,
      "outputs": []
    },
    {
      "cell_type": "code",
      "source": [
        "data['ProductName'].head()"
      ],
      "metadata": {
        "colab": {
          "base_uri": "https://localhost:8080/"
        },
        "id": "Ejl2dZLYV1cG",
        "outputId": "ee2d1c3f-c693-44fa-a719-d12703b42356"
      },
      "execution_count": null,
      "outputs": [
        {
          "output_type": "execute_result",
          "data": {
            "text/plain": [
              "0    DKNY Unisex Black & Grey Printed Medium Trolle...\n",
              "1    EthnoVogue Women Beige & Grey Made to Measure ...\n",
              "2    SPYKAR Women Pink Alexa Super Skinny Fit High-...\n",
              "3    Raymond Men Blue Self-Design Single-Breasted B...\n",
              "4    Parx Men Brown & Off-White Slim Fit Printed Ca...\n",
              "Name: ProductName, dtype: object"
            ]
          },
          "metadata": {},
          "execution_count": 35
        }
      ]
    },
    {
      "cell_type": "code",
      "source": [
        "recommend_similar_products('DKNY Unisex Black & Grey Printed Medium Trolley Bag')"
      ],
      "metadata": {
        "colab": {
          "base_uri": "https://localhost:8080/"
        },
        "id": "Ph3XfZM3h1EB",
        "outputId": "48cb189d-6a05-4b26-b538-6b9e088d5bd1"
      },
      "execution_count": null,
      "outputs": [
        {
          "output_type": "execute_result",
          "data": {
            "text/plain": [
              "273    DKNY Unisex Black & Grey Printed Cabin Trolley...\n",
              "497    DKNY Unisex Black & Grey Printed Large Trolley...\n",
              "853    DKNY Unisex Gold-Toned & White Striped Medium ...\n",
              "123    DKNY Unisex Gold & White Printed Cabin Trolley...\n",
              "141    DKNY Unisex Gold & White Printed Large Trolley...\n",
              "478                 DKNY Unisex Black Medium Trolley Bag\n",
              "504                DKNY Unisex Silver Medium Trolley Bag\n",
              "382                 DKNY Unisex Black Medium Trolley Bag\n",
              "389                DKNY Unisex Purple Medium Trolley Bag\n",
              "178                DKNY Unisex Silver Medium Trolley Bag\n",
              "Name: ProductName, dtype: object"
            ]
          },
          "metadata": {},
          "execution_count": 54
        }
      ]
    },
    {
      "cell_type": "code",
      "source": [
        "recommend_similar_products('Parx Men Brown & Off-White Slim Fit Printed Casual Shirt')"
      ],
      "metadata": {
        "colab": {
          "base_uri": "https://localhost:8080/"
        },
        "id": "kFJmch8dkEx8",
        "outputId": "ff99940c-b9e3-4b19-cf5b-7039bb21c993"
      },
      "execution_count": null,
      "outputs": [
        {
          "output_type": "execute_result",
          "data": {
            "text/plain": [
              "607          Parx Men White Slim Fit Printed Casual Shirt\n",
              "2912    ColorPlus Men White Regular Fit Printed Casual...\n",
              "5941    Indian Terrain Men Off-White Slim Fit Printed ...\n",
              "6114    Indian Terrain Men White Slim Fit Printed Casu...\n",
              "7071        WROGN Men White Slim Fit Printed Casual Shirt\n",
              "9741    The Indian Garage Co Men White Slim Fit Printe...\n",
              "6429    Indian Terrain Men Brown & White Chiseled Fit ...\n",
              "8620    Mufti Men Off-White & Brown Regular Fit Checke...\n",
              "9656    The Indian Garage Co Men Brown & White Slim Fi...\n",
              "89      Parx Men Blue & Off-White Slim Fit Printed Cas...\n",
              "Name: ProductName, dtype: object"
            ]
          },
          "metadata": {},
          "execution_count": 60
        }
      ]
    },
    {
      "cell_type": "code",
      "source": [
        "recommend_similar_products('Vishudh Women Maroon Printed Kurta with Palazzos')"
      ],
      "metadata": {
        "colab": {
          "base_uri": "https://localhost:8080/"
        },
        "id": "UQ_JyzU2kjAZ",
        "outputId": "3d6d9eb8-c1c9-4327-8517-4c061a396a8b"
      },
      "execution_count": null,
      "outputs": [
        {
          "output_type": "execute_result",
          "data": {
            "text/plain": [
              "3212    Vishudh Women Maroon & Gold-Toned Printed Kurt...\n",
              "1447       Vishudh Women Blue Printed Kurta with Palazzos\n",
              "1655      Varanga Women White Printed Kurta with Palazzos\n",
              "6432    Bhama Couture Women Red Self Design Kurta with...\n",
              "9601    Ahalyaa Women Grey & Pink Printed Kurta with P...\n",
              "882     Sera Women Off-White & Blue Printed Kurta with...\n",
              "3295      Vishudh Women Green Printed Kurta with Palazzos\n",
              "1618    Vishudh Women Yellow & Red Printed Kurta with ...\n",
              "369     Sera Women Sea Green & Maroon Printed Kurta wi...\n",
              "30            Sera Women Blue Printed Kurta with Palazzos\n",
              "Name: ProductName, dtype: object"
            ]
          },
          "metadata": {},
          "execution_count": 63
        }
      ]
    },
    {
      "cell_type": "code",
      "source": [
        "# Group by 'PrimaryColor' and calculate mean and median price\n",
        "color_price_summary = data.groupby('PrimaryColor')['Price (INR)'].agg(['mean', 'median', 'count'])\n"
      ],
      "metadata": {
        "id": "SlyKAiXswjbm"
      },
      "execution_count": null,
      "outputs": []
    },
    {
      "cell_type": "code",
      "source": [
        "print(color_price_summary)"
      ],
      "metadata": {
        "colab": {
          "base_uri": "https://localhost:8080/"
        },
        "id": "NcCLwtq_wjQQ",
        "outputId": "9872a5d0-2a7e-42fe-87f1-7fe43d27b812"
      },
      "execution_count": null,
      "outputs": [
        {
          "output_type": "stream",
          "name": "stdout",
          "text": [
            "                     mean  median  count\n",
            "PrimaryColor                            \n",
            " Beige        1402.004237  1159.5    236\n",
            " Black        1951.487805  1119.0   1640\n",
            " Bronze        588.000000   696.0      3\n",
            " Brown        1540.021142  1034.0    473\n",
            " Burgundy     1389.531250   820.0     64\n",
            " Charcoal     1306.500000   709.0     10\n",
            " Gold         1829.025424   971.0    236\n",
            " Green        1217.830396   879.0    908\n",
            " Grey         1525.320175  1102.0    684\n",
            " Khaki        1325.803571  1079.0     56\n",
            " Lavender     1118.894737   899.0     19\n",
            " Magenta       813.307692   599.0     13\n",
            " Maroon       1362.828877   899.0    187\n",
            " Matte        1438.823529  2295.0     17\n",
            " Mustard      1129.933333  1097.0     15\n",
            " Navy         1304.388889   889.0     54\n",
            " Orange       1039.984615   749.0    130\n",
            " Peach         534.500000   534.5      2\n",
            " Pink         1193.961637   899.0    391\n",
            " Platinum     2183.333333  2520.0      3\n",
            " Purple       2246.923077   799.0     65\n",
            " Red          1273.090732   899.0   1543\n",
            " Rose         2802.875000  2052.5      8\n",
            " Silver       2857.126126   766.0    111\n",
            " White        1562.528409   899.0    880\n",
            " Yellow       1085.721675   779.0    406\n",
            "Blue          1350.478652   919.0   3443\n",
            "Unknown       1345.615213   899.0    894\n"
          ]
        }
      ]
    },
    {
      "cell_type": "code",
      "source": [
        "import matplotlib.pyplot as plt\n",
        "\n",
        "# Plot mean price by color\n",
        "color_price_summary.sort_values(by='mean', ascending=False)['mean'].plot(kind='bar', color='skyblue', figsize=(10, 6))\n",
        "plt.title('Mean Price by Primary Color')\n",
        "plt.xlabel('Primary Color')\n",
        "plt.ylabel('Mean Price (INR)')\n",
        "plt.xticks(rotation=45)\n",
        "plt.grid(axis='y', linestyle='--', alpha=0.7)\n",
        "plt.show()\n"
      ],
      "metadata": {
        "colab": {
          "base_uri": "https://localhost:8080/",
          "height": 611
        },
        "id": "52XQuofVwjM9",
        "outputId": "789544ec-93b7-4d41-e29e-835827810e18"
      },
      "execution_count": null,
      "outputs": [
        {
          "output_type": "display_data",
          "data": {
            "text/plain": [
              "<Figure size 1000x600 with 1 Axes>"
            ],
            "image/png": "[encoded data removed]"
          },
          "metadata": {}
        }
      ]
    },
    {
      "cell_type": "code",
      "source": [
        "# Define a threshold for higher-priced products\n",
        "price_threshold = data['Price (INR)'].quantile(0.75)  # Example: 75th percentile\n",
        "higher_priced_products = data[data['Price (INR)'] > price_threshold]\n"
      ],
      "metadata": {
        "id": "oF7IS7oHwjJt"
      },
      "execution_count": null,
      "outputs": []
    },
    {
      "cell_type": "code",
      "source": [
        "# Count frequencies of each color among higher-priced products\n",
        "color_counts = higher_priced_products['PrimaryColor'].value_counts()\n"
      ],
      "metadata": {
        "id": "uQdVdJQd7Pu-"
      },
      "execution_count": null,
      "outputs": []
    },
    {
      "cell_type": "code",
      "source": [
        "most_common_color = color_counts.idxmax()\n",
        "count_highest = color_counts.max()\n",
        "\n",
        "print(f\"The most common color associated with higher-priced products is '{most_common_color}' with {count_highest} occurrences.\")\n"
      ],
      "metadata": {
        "colab": {
          "base_uri": "https://localhost:8080/"
        },
        "id": "jXp-msER7dhe",
        "outputId": "0a33c307-7bca-4855-cfb8-5c582feea8bb"
      },
      "execution_count": null,
      "outputs": [
        {
          "output_type": "stream",
          "name": "stdout",
          "text": [
            "The most common color associated with higher-priced products is 'Blue' with 679 occurrences.\n"
          ]
        }
      ]
    },
    {
      "cell_type": "code",
      "source": [
        "# Group by 'PrimaryColor' and calculate mean price\n",
        "color_price_summary = data.groupby('PrimaryColor')['Price (INR)'].mean().sort_values(ascending=False)\n"
      ],
      "metadata": {
        "id": "ZQ7fgNfr7dbN"
      },
      "execution_count": null,
      "outputs": []
    },
    {
      "cell_type": "code",
      "source": [
        "most_common_high_price_color = color_price_summary.idxmax()\n",
        "highest_avg_price = color_price_summary.max()\n",
        "\n",
        "print(f\"The most common color associated with increased prices is '{most_common_high_price_color}' with an average price of {highest_avg_price:.2f} INR.\")\n"
      ],
      "metadata": {
        "colab": {
          "base_uri": "https://localhost:8080/"
        },
        "id": "vGKfl2RC7dVh",
        "outputId": "8725d9be-afaa-450f-a0ac-60f5aa561d2a"
      },
      "execution_count": null,
      "outputs": [
        {
          "output_type": "stream",
          "name": "stdout",
          "text": [
            "The most common color associated with increased prices is ' Silver' with an average price of 2857.13 INR.\n"
          ]
        }
      ]
    },
    {
      "cell_type": "code",
      "source": [
        "#High-End Brands:\n",
        "#Certain colors may be associated with luxury or high-end brands, leading to higher prices due to brand perception.\n",
        "#Trend Influence:\n",
        "#Colors influenced by current fashion trends or celebrity endorsements may command higher prices.\n",
        "#Seasonal Variations:\n",
        "#Seasonal colors or patterns may see price fluctuations based on demand and supply dynamics.\n",
        "#Consumer Demand:\n",
        "#Consumer preferences for specific colors based on cultural or personal reasons can drive prices up."
      ],
      "metadata": {
        "id": "byYP8BqO9RC0"
      },
      "execution_count": null,
      "outputs": []
    }
  ]
}